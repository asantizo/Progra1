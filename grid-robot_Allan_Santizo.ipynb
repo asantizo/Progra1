{
 "cells": [
  {
   "cell_type": "markdown",
   "metadata": {},
   "source": [
    "### Programa de Estudios Superiores 2019-2020\n",
    "### Programación I - proyecto final\n",
    "#### Elaborado por <span class=\"alert alert-info\"> ***ALLAN SANTIZO*** </span><br>\n",
    "***\n",
    "***Instrucciones generales:*** resuelve el siguiente problema de acuerdo a la especificación dada. \n",
    "- El código debe ir comentado para explicar la lógica y debe ser totalmente funcional para ser considerado correcto. De lo contrario, la calificación podrá ser subjetiva.\n",
    "- Al final de la definición de la clase, obtenga una instancia y muestra que el objeto se comporta de acuerdo a las especificaciones deseadas, para poder calificarte más rápidamente.\n",
    "***"
   ]
  },
  {
   "attachments": {
    "grid-robot.png": {
     "image/png": "[encoded data removed]"
    }
   },
   "cell_type": "markdown",
   "metadata": {},
   "source": [
    "# *Drunken robot*\n",
    "\n",
    "Considere un robot que sigue una caminata aleatoria dentro de una cuadícula unidimensional, como se muestra a continuación. En cada período, el robot se mueve aleatoriamente hacia la izquierda o hacia la derecha (siempre y cuando sea posible), para ocupar una casilla diferente. Cuando el robot ocupa una casilla, esta casilla se marca de color amarillo.  \n",
    "\n",
    "![grid-robot.png](attachment:grid-robot.png)\n",
    "\n",
    "Un amigo suyo, economista, cree que este proceso estocástico puede ayudarle a entender un problema de reversión a la media de una serie de tiempo con la que está teniendo problemas recientemente, por lo que le interesa el problema de este robot. Para esto, su amigo necesita entender cuántos períodos le puede tomar a este robot marcar toda la cuadrícula de color amarillo. Entonces, le ha pedido ayuda a usted para que le ayude con algunas simulaciones.\n",
    "\n",
    "Usted ha llevado recientemente un curso de programación y pretende resolver este problema a través de la implementación de una clase de Python. \n",
    "\n",
    "## Descripción de la clase\n",
    "\n",
    "Usted va a implementar la simulación a través de la clase `DrunkenRobot` de la siguiente forma:\n",
    "\n",
    "- Al crear un objeto de esta clase, el constructor debe recibir la cantidad $n$ de casillas para crear la cuadrícula y posicionará al robot en una de estas casillas de forma aleatoria.\n",
    "\n",
    "Además, deberá implementar los siguientes métodos:\n",
    "\n",
    "- Método `takeStep` que lleve a cabo un paso del robot y marque la nueva casilla como visitada. El robot debe llevar un registro de todos los pasos que ha tomado y en qué período lo ha hecho.\n",
    "\n",
    "- `conquerAll` que utilice el método `takeStep` para mover el robot hasta visitar toda la cuadrícula.\n",
    "\n",
    "- `plotSteps` que haga una gráfica de la posición del robot (número de casilla) en cada período. Debe llamarse posterior a la ejecución de `conquerAll`.\n",
    "    - Deberá agregar una opción booleana `savePlot` para escoger si guardar la gráfica en un formato de alta calidad.\n",
    "\n",
    "- `getTrajectory` que devolverá un `DataFrame` de pandas con la posición del robot en cada período. Debe llamarse posterior a la ejecución de `conquerAll`.\n",
    "\n",
    "- **Extra**: `getCumulativeTrajectory` que devolverá un `DataFrame` de pandas con el número de casillas visitadas en cada período."
   ]
  },
  {
   "cell_type": "markdown",
   "metadata": {},
   "source": [
    "<div class=\"alert alert-info\">\n",
    "<b>Importe los paquetes que sean necesarios</b>: <br>\n",
    "\n",
    "\n",
    "</div>"
   ]
  },
  {
   "cell_type": "code",
   "execution_count": 264,
   "metadata": {},
   "outputs": [],
   "source": [
    "import pandas as pd\n",
    "import numpy as np\n",
    "import matplotlib\n",
    "import matplotlib.pyplot as plt\n",
    "from mpl_toolkits.mplot3d import Axes3D\n",
    "import random\n"
   ]
  },
  {
   "cell_type": "markdown",
   "metadata": {},
   "source": [
    "<div class=\"alert alert-info\">\n",
    "<b>Escriba su código en la celda siguiente</b>: <br>\n",
    "\n",
    "\n",
    "</div>"
   ]
  },
  {
   "cell_type": "code",
   "execution_count": 322,
   "metadata": {},
   "outputs": [],
   "source": [
    "class DrunkenRobot:\n",
    "    \n",
    "    cuenta=0\n",
    "    visitas=[]\n",
    "    \n",
    "    ''' \n",
    "        Recibe la cantidad de casillas n de la cuadrícula y \n",
    "        posiciona aleatoriamente al robot.\n",
    "    '''\n",
    "    def __init__(self, n):\n",
    "        c=np.arange(0,n,1)\n",
    "        np.random.shuffle(c)\n",
    "        self.n=c[0]\n",
    "        visitas.append(c[0])\n",
    "    \n",
    "    \n",
    "    def get_n(self):\n",
    "        return self.n\n",
    "    \n",
    "    '''\n",
    "        Lleva a cabo un paso del robot y marca la nueva casilla \n",
    "        como visitada. El robot debe llevar un registro de todos\n",
    "        los pasos que ha tomado y en qué período lo ha hecho.\n",
    "    '''\n",
    "    def takeStep(self):\n",
    "        \n",
    "        inicio=a.get_n()\n",
    "        \n",
    "        for i in c:\n",
    "            visitas.append(c[i])\n",
    "        \n",
    "    \n",
    "    '''\n",
    "        Utiliza el método `takeStep` para mover el robot hasta \n",
    "        visitar toda la cuadrícula.\n",
    "    '''\n",
    "    def conquerAll(self):\n",
    "        pass\n",
    "    \n",
    "    '''\n",
    "        Realiza una gráfica de la posición del robot (número de casilla)\n",
    "        en cada período. La opción booleana `savePlot` permite\n",
    "        escoger si guardar la gráfica en un formato de alta calidad.\n",
    "    '''\n",
    "    def plotSteps(self, savePlot=False):\n",
    "        pass\n",
    "    \n",
    "    '''\n",
    "        Devuelve un `DataFrame` de pandas con la posición del \n",
    "        robot en cada período.\n",
    "    '''\n",
    "    def getTrajectory(self):\n",
    "        pass\n",
    "    \n",
    "    '''\n",
    "        EXTRA.\n",
    "        Devuelve un `DataFrame` de pandas con el número de \n",
    "        casillas visitadas en cada período.\n",
    "    '''\n",
    "    def getCumulativeTrajectory(self):\n",
    "        pass"
   ]
  },
  {
   "cell_type": "markdown",
   "metadata": {},
   "source": [
    "***\n",
    "## Área de pruebas personal\n",
    "\n",
    "Utilice el siguiente espacio para llevar a cabo **sus** pruebas.\n"
   ]
  },
  {
   "cell_type": "code",
   "execution_count": 238,
   "metadata": {},
   "outputs": [],
   "source": [
    "n=8\n",
    "c=np.arange(0,n,1)"
   ]
  },
  {
   "cell_type": "code",
   "execution_count": 240,
   "metadata": {},
   "outputs": [
    {
     "data": {
      "text/plain": [
       "array([2, 3, 5, 4, 0, 7, 6, 1])"
      ]
     },
     "execution_count": 240,
     "metadata": {},
     "output_type": "execute_result"
    }
   ],
   "source": [
    "np.random.shuffle(c)\n",
    "c"
   ]
  },
  {
   "cell_type": "code",
   "execution_count": 241,
   "metadata": {},
   "outputs": [
    {
     "data": {
      "text/plain": [
       "2"
      ]
     },
     "execution_count": 241,
     "metadata": {},
     "output_type": "execute_result"
    }
   ],
   "source": [
    "c[0]"
   ]
  },
  {
   "cell_type": "code",
   "execution_count": 274,
   "metadata": {},
   "outputs": [
    {
     "data": {
      "text/plain": [
       "2"
      ]
     },
     "execution_count": 274,
     "metadata": {},
     "output_type": "execute_result"
    }
   ],
   "source": [
    "a=DrunkenRobot(8)\n",
    "a.n"
   ]
  },
  {
   "cell_type": "code",
   "execution_count": 280,
   "metadata": {},
   "outputs": [
    {
     "data": {
      "text/plain": [
       "array([2, 3, 5, 4, 0, 7, 6, 1])"
      ]
     },
     "execution_count": 280,
     "metadata": {},
     "output_type": "execute_result"
    }
   ],
   "source": [
    "c"
   ]
  },
  {
   "cell_type": "code",
   "execution_count": 314,
   "metadata": {},
   "outputs": [
    {
     "data": {
      "text/plain": [
       "[]"
      ]
     },
     "execution_count": 314,
     "metadata": {},
     "output_type": "execute_result"
    }
   ],
   "source": [
    "visita=[]\n",
    "visita"
   ]
  },
  {
   "cell_type": "code",
   "execution_count": 317,
   "metadata": {},
   "outputs": [
    {
     "data": {
      "text/plain": [
       "[5, 4, 7, 0, 2, 1, 6, 3]"
      ]
     },
     "execution_count": 317,
     "metadata": {},
     "output_type": "execute_result"
    }
   ],
   "source": [
    "visita=[]\n",
    "for i in c:\n",
    "    visita.append(c[i])\n",
    "visita"
   ]
  },
  {
   "cell_type": "code",
   "execution_count": 309,
   "metadata": {},
   "outputs": [
    {
     "data": {
      "text/plain": [
       "[2]"
      ]
     },
     "execution_count": 309,
     "metadata": {},
     "output_type": "execute_result"
    }
   ],
   "source": [
    "visita=[]\n",
    "visita.append(c[0])\n",
    "visita"
   ]
  },
  {
   "cell_type": "code",
   "execution_count": 324,
   "metadata": {},
   "outputs": [
    {
     "data": {
      "text/plain": [
       "[<matplotlib.lines.Line2D at 0x22182842b88>]"
      ]
     },
     "execution_count": 324,
     "metadata": {},
     "output_type": "execute_result"
    },
    {
     "data": {
      "image/png": "[encoded data removed]",
      "text/plain": [
       "<Figure size 432x288 with 1 Axes>"
      ]
     },
     "metadata": {
      "needs_background": "light"
     },
     "output_type": "display_data"
    }
   ],
   "source": [
    "plt.plot(visita)"
   ]
  },
  {
   "cell_type": "markdown",
   "metadata": {},
   "source": [
    "***\n",
    "## Área de pruebas para calificación\n",
    "\n",
    "Utilice el siguiente espacio para mostrarnos su implementación terminada."
   ]
  },
  {
   "cell_type": "markdown",
   "metadata": {},
   "source": [
    "<div class=\"alert alert-info\">\n",
    "<b>Pruebe el método \"takeStep\"</b>: <br>\n",
    "</div>"
   ]
  },
  {
   "cell_type": "code",
   "execution_count": 137,
   "metadata": {},
   "outputs": [
    {
     "data": {
      "text/plain": [
       "array([2])"
      ]
     },
     "execution_count": 137,
     "metadata": {},
     "output_type": "execute_result"
    }
   ],
   "source": []
  },
  {
   "cell_type": "markdown",
   "metadata": {},
   "source": [
    "<div class=\"alert alert-info\">\n",
    "<b>Pruebe el método \"conquerAll\"</b>: <br>\n",
    "</div>"
   ]
  },
  {
   "cell_type": "code",
   "execution_count": null,
   "metadata": {},
   "outputs": [],
   "source": []
  },
  {
   "cell_type": "markdown",
   "metadata": {},
   "source": [
    "<div class=\"alert alert-info\">\n",
    "<b>Pruebe el método \"plotSteps\"</b>: <br>\n",
    "</div>"
   ]
  },
  {
   "cell_type": "code",
   "execution_count": null,
   "metadata": {},
   "outputs": [],
   "source": []
  },
  {
   "cell_type": "markdown",
   "metadata": {},
   "source": [
    "<div class=\"alert alert-info\">\n",
    "<b>Pruebe el método \"getTrajectory\"</b>: <br>\n",
    "</div>"
   ]
  },
  {
   "cell_type": "code",
   "execution_count": null,
   "metadata": {},
   "outputs": [],
   "source": []
  },
  {
   "cell_type": "markdown",
   "metadata": {},
   "source": [
    "<div class=\"alert alert-info\">\n",
    "<b>Muestre cada uno de los atribujos del objeto utilizado en el ejemplo</b>: <br>\n",
    "</div>"
   ]
  },
  {
   "cell_type": "code",
   "execution_count": null,
   "metadata": {},
   "outputs": [],
   "source": []
  }
 ],
 "metadata": {
  "kernelspec": {
   "display_name": "Python 3",
   "language": "python",
   "name": "python3"
  },
  "language_info": {
   "codemirror_mode": {
    "name": "ipython",
    "version": 3
   },
   "file_extension": ".py",
   "mimetype": "text/x-python",
   "name": "python",
   "nbconvert_exporter": "python",
   "pygments_lexer": "ipython3",
   "version": "3.7.4"
  }
 },
 "nbformat": 4,
 "nbformat_minor": 2
}
